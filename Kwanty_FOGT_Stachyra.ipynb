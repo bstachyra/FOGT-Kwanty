{
 "metadata": {
  "language_info": {
   "codemirror_mode": {
    "name": "python",
    "version": 3
   },
   "file_extension": ".py",
   "mimetype": "text/x-python",
   "name": "python",
   "nbconvert_exporter": "python",
   "pygments_lexer": "ipython3",
   "version": "3.8"
  },
  "kernelspec": {
   "name": "python",
   "display_name": "Python (Pyodide)",
   "language": "python"
  }
 },
 "nbformat_minor": 4,
 "nbformat": 4,
 "cells": [
  {
   "cell_type": "code",
   "source": [
    "import sympy as sp\n",
    "import numpy as np\n",
    "import matplotlib.pyplot as plt\n",
    "from sympy.utilities import lambdify\n",
    "from matplotlib.animation import FuncAnimation\n",
    "from IPython.display import HTML\n",
    "\n",
    "sp.init_printing()\n",
    "x = sp.Symbol('x', real = True)\n",
    "k = sp.Symbol('k', real = True, positive = True)\n",
    "a = sp.Symbol('a', real = True)\n",
    "n = sp.Symbol('n', integer = True, nonzero = True)\n",
    "m = sp.Symbol('m', real = True, positive = True)\n",
    "h = sp.Symbol('hbar', real = True, positive = True)\n",
    "t = sp.Symbol('t', real = True, positive = True)\n",
    "psi = sp.Function('\\psi')\n",
    "\n",
    "x, k, a, psi(x), n, m, h, t\n",
    "psi(x).diff(x, x)\n",
    " \n",
    "-k**2 * psi(x)\n",
    "eq = sp.Eq(psi(x).diff(x, x), -k**2 * psi(x))\n",
    "eq\n",
    " \n",
    "sol = sp.dsolve(eq, psi(x), ics = {psi(0): 0, psi(a): 0})\n",
    "sol\n",
    "sol = sp.dsolve(eq, psi(x), ics = {psi(0): 0})\n",
    "sol\n",
    "# sol = sp.dsolve(eq, psi(x), ics = {psi(0): 0, psi(a): 0})\n",
    "# sol\n",
    "sol = sol.subs(k, n * sp.pi / a)\n",
    "sol\n",
    " \n",
    "sol.lhs, sol.rhs\n",
    " \n",
    "sol.rhs**2\n",
    " \n",
    "sp.integrate(sp.Abs(sol.rhs)**2, (x, 0, a))\n",
    " \n",
    "sol.rhs * sp.conjugate(sol.rhs)\n",
    " \n",
    " \n",
    "sp.integrate(sol.rhs * sp.conjugate(sol.rhs), (x, 0, a))\n",
    " \n",
    " \n",
    "sp.integrate(sol.rhs**2, (x, 0, a))\n",
    " \n",
    "sp.Symbol('C1')\n",
    "sol = sol.subs(sp.Symbol('C1'), sp.sqrt(2 / a))\n",
    "sol\n",
    " \n",
    " \n",
    "E = n**2 * sp.pi**2 * h**2 / (2 * m * a**2)\n",
    "E\n",
    " \n",
    "fi = sp.exp(-sp.I * E * t / h)\n",
    "fi\n",
    " \n",
    "Psi = sol.rhs * fi\n",
    "Psi\n",
    " \n",
    " \n",
    " \n",
    "Psi.subs({m: 1, a: 1, h: 1})\n",
    " \n",
    "Psif = lambdify((x, t, n), Psi.subs({m: 1, a: 1, h: 1}))\n",
    "Psif(0.3, 0.1, 1)\n",
    "\n",
    "p = sp.integrate(-1 * sp.I * h * sol.rhs.diff(x) * sol.rhs, (x, 0, a)).simplify()\n",
    "p"
   ],
   "metadata": {
    "trusted": true
   },
   "execution_count": 3,
   "outputs": [
    {
     "execution_count": 3,
     "output_type": "execute_result",
     "data": {
      "text/plain": "0",
      "image/png": "[encoded data removed]",
      "text/latex": "$\\displaystyle 0$"
     },
     "metadata": {}
    }
   ]
  },
  {
   "cell_type": "code",
   "source": [
    "p2 = sp.integrate(-1 * h**2 * sol.rhs.diff(x, x) * sol.rhs, (x, 0, a)).simplify()\n",
    "p2"
   ],
   "metadata": {
    "trusted": true
   },
   "execution_count": 6,
   "outputs": [
    {
     "execution_count": 6,
     "output_type": "execute_result",
     "data": {
      "text/plain": " 2  2  2\nπ ⋅h̅ ⋅n \n────────\n    2   \n   a    ",
      "image/png": "[encoded data removed]",
      "text/latex": "$\\displaystyle \\frac{\\pi^{2} \\hbar^{2} n^{2}}{a^{2}}$"
     },
     "metadata": {}
    }
   ]
  },
  {
   "cell_type": "code",
   "source": [],
   "metadata": {},
   "execution_count": null,
   "outputs": []
  }
 ]
}
